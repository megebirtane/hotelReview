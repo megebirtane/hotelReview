{
 "cells": [
  {
   "cell_type": "code",
   "execution_count": 9,
   "metadata": {},
   "outputs": [],
   "source": [
    "import os\n",
    "# Path to your dataset folder\n",
    "dataset_folder = '/Users/durud/Desktop/dataset/hotels/data'\n",
    "\n",
    "# Output file to store merged reviews\n",
    "output_file = '/Users/durud/Desktop/dataset/merged_reviews.txt'"
   ]
  },
  {
   "cell_type": "code",
   "execution_count": 11,
   "metadata": {},
   "outputs": [],
   "source": [
    "with open(output_file, 'w', encoding='utf-8') as outfile:\n",
    "    for city in os.listdir(dataset_folder):\n",
    "        city_folder = os.path.join(dataset_folder, city)\n",
    "        if os.path.isdir(city_folder):\n",
    "            for hotel_file in os.listdir(city_folder):\n",
    "                hotel_file_path = os.path.join(city_folder, hotel_file)\n",
    "                if os.path.isfile(hotel_file_path):\n",
    "                    with open(hotel_file_path, 'rb') as infile:\n",
    "                        try:\n",
    "                            # Read content of the file and decode with error handling\n",
    "                            content = infile.read().decode('utf-8', errors='ignore')\n",
    "                            # Write content to output file\n",
    "                            outfile.write(content)\n",
    "                            # Append hotel name or file name for identification\n",
    "                            outfile.write(f'\\n\\nHotel: {hotel_file}\\n\\n')\n",
    "                        except Exception as e:\n",
    "                            print(f\"Error reading file {hotel_file_path}: {e}\")"
   ]
  }
 ],
 "metadata": {
  "kernelspec": {
   "display_name": "Python 3",
   "language": "python",
   "name": "python3"
  },
  "language_info": {
   "codemirror_mode": {
    "name": "ipython",
    "version": 3
   },
   "file_extension": ".py",
   "mimetype": "text/x-python",
   "name": "python",
   "nbconvert_exporter": "python",
   "pygments_lexer": "ipython3",
   "version": "3.10.11"
  }
 },
 "nbformat": 4,
 "nbformat_minor": 2
}
